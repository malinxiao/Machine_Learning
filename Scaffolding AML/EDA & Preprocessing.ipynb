{
 "cells": [
  {
   "cell_type": "code",
   "execution_count": 1,
   "metadata": {},
   "outputs": [],
   "source": [
    "# import required python packages \n",
    "import pandas as pd\n",
    "import seaborn as sns\n",
    "import missingno as msno\n",
    "import matplotlib.pylab as plt\n",
    "%matplotlib inline\n",
    "\n",
    "# Use the Azure Machine Learning data collector to log various metrics\n",
    "from azureml.logging import get_azureml_logger\n",
    "logger = get_azureml_logger()"
   ]
  },
  {
   "cell_type": "code",
   "execution_count": 2,
   "metadata": {},
   "outputs": [],
   "source": [
    "# load training dataset \n",
    "train = pd.read_csv('Data/train.csv')\n",
    "\n",
    "# categorise columns\n",
    "excluded = [\"PassengerId\", \"Name\", \"Ticket\", \"Cabin\"]\n",
    "targets = \"Survived\"\n",
    "categoricalVariables = [\"Pclass\", \"Embarked\", \"Sex\", \"Parch\", \"SibSp\"]\n",
    "continuousVariables = [\"Age\", \"Fare\"]\n",
    "\n",
    "train.isnull().sum().sort_values(ascending=False)\n",
    "\n",
    "# Remove unused columns\n",
    "columns = [x for x in train.columns if x not in excluded]\n",
    "\n",
    "# One-Hot encode\n",
    "train = pd.get_dummies(train[columns], columns=categoricalVariables)\n",
    "predictors =  [x for x in train.columns if x not in [targets]]\n",
    "\n",
    "# Handle Missing Values\n",
    "train = train.dropna()\n",
    "\n",
    "train.to_csv('Data/train_processed.csv')"
   ]
  }
 ],
 "metadata": {
  "kernelspec": {
   "display_name": "Python 3",
   "language": "python",
   "name": "python3"
  },
  "language_info": {
   "codemirror_mode": {
    "name": "ipython",
    "version": 3
   },
   "file_extension": ".py",
   "mimetype": "text/x-python",
   "name": "python",
   "nbconvert_exporter": "python",
   "pygments_lexer": "ipython3",
   "version": "3.5.2"
  }
 },
 "nbformat": 4,
 "nbformat_minor": 2
}
